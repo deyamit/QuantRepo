{
 "cells": [
  {
   "attachments": {},
   "cell_type": "markdown",
   "metadata": {},
   "source": [
    "1. Distance approach\n",
    "2. Cointegration approach\n",
    "3. Time series approach\n",
    "4. Stochastic control\n",
    "5. Other: consisting of PCA, copula, and Machine Learning approaches."
   ]
  },
  {
   "cell_type": "code",
   "execution_count": null,
   "metadata": {},
   "outputs": [],
   "source": []
  }
 ],
 "metadata": {
  "language_info": {
   "name": "python"
  },
  "orig_nbformat": 4
 },
 "nbformat": 4,
 "nbformat_minor": 2
}
