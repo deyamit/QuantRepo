{
 "cells": [
  {
   "cell_type": "markdown",
   "metadata": {},
   "source": [
    "Feature Selection"
   ]
  },
  {
   "cell_type": "code",
   "execution_count": 4,
   "metadata": {},
   "outputs": [],
   "source": [
    "# Import required libraries\n",
    "import pandas as pd\n",
    "import numpy as np\n",
    "\n",
    "# Import yahoo finance libraries\n",
    "import pandas_datareader as pdr\n",
    "import yfinance as yf"
   ]
  },
  {
   "cell_type": "code",
   "execution_count": null,
   "metadata": {},
   "outputs": [],
   "source": [
    "#pip install yfinance --upgrade --no-cache-dir"
   ]
  },
  {
   "cell_type": "code",
   "execution_count": 9,
   "metadata": {},
   "outputs": [
    {
     "data": {
      "text/html": [
       "<div>\n",
       "<style scoped>\n",
       "    .dataframe tbody tr th:only-of-type {\n",
       "        vertical-align: middle;\n",
       "    }\n",
       "\n",
       "    .dataframe tbody tr th {\n",
       "        vertical-align: top;\n",
       "    }\n",
       "\n",
       "    .dataframe thead th {\n",
       "        text-align: right;\n",
       "    }\n",
       "</style>\n",
       "<table border=\"1\" class=\"dataframe\">\n",
       "  <thead>\n",
       "    <tr style=\"text-align: right;\">\n",
       "      <th></th>\n",
       "      <th>Open</th>\n",
       "      <th>High</th>\n",
       "      <th>Low</th>\n",
       "      <th>Close</th>\n",
       "      <th>Adj Close</th>\n",
       "      <th>Volume</th>\n",
       "    </tr>\n",
       "    <tr>\n",
       "      <th>Date</th>\n",
       "      <th></th>\n",
       "      <th></th>\n",
       "      <th></th>\n",
       "      <th></th>\n",
       "      <th></th>\n",
       "      <th></th>\n",
       "    </tr>\n",
       "  </thead>\n",
       "  <tbody>\n",
       "    <tr>\n",
       "      <th>2016-11-01</th>\n",
       "      <td>782.890015</td>\n",
       "      <td>789.489990</td>\n",
       "      <td>775.539978</td>\n",
       "      <td>783.609985</td>\n",
       "      <td>783.609985</td>\n",
       "      <td>2406400</td>\n",
       "    </tr>\n",
       "    <tr>\n",
       "      <th>2016-11-02</th>\n",
       "      <td>778.200012</td>\n",
       "      <td>781.650024</td>\n",
       "      <td>763.450012</td>\n",
       "      <td>768.700012</td>\n",
       "      <td>768.700012</td>\n",
       "      <td>1872400</td>\n",
       "    </tr>\n",
       "    <tr>\n",
       "      <th>2016-11-03</th>\n",
       "      <td>767.250000</td>\n",
       "      <td>769.950012</td>\n",
       "      <td>759.030029</td>\n",
       "      <td>762.130005</td>\n",
       "      <td>762.130005</td>\n",
       "      <td>1943200</td>\n",
       "    </tr>\n",
       "    <tr>\n",
       "      <th>2016-11-04</th>\n",
       "      <td>750.659973</td>\n",
       "      <td>770.359985</td>\n",
       "      <td>750.560974</td>\n",
       "      <td>762.020020</td>\n",
       "      <td>762.020020</td>\n",
       "      <td>2134800</td>\n",
       "    </tr>\n",
       "    <tr>\n",
       "      <th>2016-11-07</th>\n",
       "      <td>774.500000</td>\n",
       "      <td>785.190002</td>\n",
       "      <td>772.549988</td>\n",
       "      <td>782.520020</td>\n",
       "      <td>782.520020</td>\n",
       "      <td>1585100</td>\n",
       "    </tr>\n",
       "    <tr>\n",
       "      <th>...</th>\n",
       "      <td>...</td>\n",
       "      <td>...</td>\n",
       "      <td>...</td>\n",
       "      <td>...</td>\n",
       "      <td>...</td>\n",
       "      <td>...</td>\n",
       "    </tr>\n",
       "    <tr>\n",
       "      <th>2021-10-25</th>\n",
       "      <td>2776.209961</td>\n",
       "      <td>2784.115967</td>\n",
       "      <td>2734.969971</td>\n",
       "      <td>2775.459961</td>\n",
       "      <td>2775.459961</td>\n",
       "      <td>1054100</td>\n",
       "    </tr>\n",
       "    <tr>\n",
       "      <th>2021-10-26</th>\n",
       "      <td>2812.120117</td>\n",
       "      <td>2816.790039</td>\n",
       "      <td>2780.110107</td>\n",
       "      <td>2793.439941</td>\n",
       "      <td>2793.439941</td>\n",
       "      <td>1412900</td>\n",
       "    </tr>\n",
       "    <tr>\n",
       "      <th>2021-10-27</th>\n",
       "      <td>2798.050049</td>\n",
       "      <td>2982.360107</td>\n",
       "      <td>2798.050049</td>\n",
       "      <td>2928.550049</td>\n",
       "      <td>2928.550049</td>\n",
       "      <td>2592500</td>\n",
       "    </tr>\n",
       "    <tr>\n",
       "      <th>2021-10-28</th>\n",
       "      <td>2945.979980</td>\n",
       "      <td>2948.489990</td>\n",
       "      <td>2895.270020</td>\n",
       "      <td>2922.580078</td>\n",
       "      <td>2922.580078</td>\n",
       "      <td>1620900</td>\n",
       "    </tr>\n",
       "    <tr>\n",
       "      <th>2021-10-29</th>\n",
       "      <td>2910.399902</td>\n",
       "      <td>2972.260010</td>\n",
       "      <td>2903.330078</td>\n",
       "      <td>2965.409912</td>\n",
       "      <td>2965.409912</td>\n",
       "      <td>1447700</td>\n",
       "    </tr>\n",
       "  </tbody>\n",
       "</table>\n",
       "<p>1258 rows × 6 columns</p>\n",
       "</div>"
      ],
      "text/plain": [
       "                   Open         High          Low        Close    Adj Close  \\\n",
       "Date                                                                          \n",
       "2016-11-01   782.890015   789.489990   775.539978   783.609985   783.609985   \n",
       "2016-11-02   778.200012   781.650024   763.450012   768.700012   768.700012   \n",
       "2016-11-03   767.250000   769.950012   759.030029   762.130005   762.130005   \n",
       "2016-11-04   750.659973   770.359985   750.560974   762.020020   762.020020   \n",
       "2016-11-07   774.500000   785.190002   772.549988   782.520020   782.520020   \n",
       "...                 ...          ...          ...          ...          ...   \n",
       "2021-10-25  2776.209961  2784.115967  2734.969971  2775.459961  2775.459961   \n",
       "2021-10-26  2812.120117  2816.790039  2780.110107  2793.439941  2793.439941   \n",
       "2021-10-27  2798.050049  2982.360107  2798.050049  2928.550049  2928.550049   \n",
       "2021-10-28  2945.979980  2948.489990  2895.270020  2922.580078  2922.580078   \n",
       "2021-10-29  2910.399902  2972.260010  2903.330078  2965.409912  2965.409912   \n",
       "\n",
       "             Volume  \n",
       "Date                 \n",
       "2016-11-01  2406400  \n",
       "2016-11-02  1872400  \n",
       "2016-11-03  1943200  \n",
       "2016-11-04  2134800  \n",
       "2016-11-07  1585100  \n",
       "...             ...  \n",
       "2021-10-25  1054100  \n",
       "2021-10-26  1412900  \n",
       "2021-10-27  2592500  \n",
       "2021-10-28  1620900  \n",
       "2021-10-29  1447700  \n",
       "\n",
       "[1258 rows x 6 columns]"
      ]
     },
     "execution_count": 9,
     "metadata": {},
     "output_type": "execute_result"
    }
   ],
   "source": [
    "OHLCV = yf.download('GOOG', start='2016-11-01', end='2021-11-01', progress=False)\n",
    "OHLCV"
   ]
  },
  {
   "cell_type": "code",
   "execution_count": 11,
   "metadata": {},
   "outputs": [
    {
     "data": {
      "text/plain": [
       "Date\n",
       "2016-11-01     13.950012\n",
       "2016-11-02     18.200012\n",
       "2016-11-03     10.919983\n",
       "2016-11-04     19.799011\n",
       "2016-11-07     12.640015\n",
       "                 ...    \n",
       "2021-10-25     49.145996\n",
       "2021-10-26     36.679932\n",
       "2021-10-27    184.310059\n",
       "2021-10-28     53.219971\n",
       "2021-10-29     68.929932\n",
       "Length: 1258, dtype: float64"
      ]
     },
     "execution_count": 11,
     "metadata": {},
     "output_type": "execute_result"
    }
   ],
   "source": [
    "OHLCV['High']-OHLCV['Low']"
   ]
  }
 ],
 "metadata": {
  "interpreter": {
   "hash": "a20733d2e16c949a1469d40e1adfe43a0a74d020c35bd1193ba7baa471c903e3"
  },
  "kernelspec": {
   "display_name": "Python 3",
   "language": "python",
   "name": "python3"
  },
  "language_info": {
   "codemirror_mode": {
    "name": "ipython",
    "version": 3
   },
   "file_extension": ".py",
   "mimetype": "text/x-python",
   "name": "python",
   "nbconvert_exporter": "python",
   "pygments_lexer": "ipython3",
   "version": "3.8.3"
  },
  "toc": {
   "base_numbering": 1,
   "nav_menu": {},
   "number_sections": true,
   "sideBar": true,
   "skip_h1_title": false,
   "title_cell": "Table of Contents",
   "title_sidebar": "Contents",
   "toc_cell": false,
   "toc_position": {},
   "toc_section_display": true,
   "toc_window_display": false
  },
  "varInspector": {
   "cols": {
    "lenName": 16,
    "lenType": 16,
    "lenVar": 40
   },
   "kernels_config": {
    "python": {
     "delete_cmd_postfix": "",
     "delete_cmd_prefix": "del ",
     "library": "var_list.py",
     "varRefreshCmd": "print(var_dic_list())"
    },
    "r": {
     "delete_cmd_postfix": ") ",
     "delete_cmd_prefix": "rm(",
     "library": "var_list.r",
     "varRefreshCmd": "cat(var_dic_list()) "
    }
   },
   "types_to_exclude": [
    "module",
    "function",
    "builtin_function_or_method",
    "instance",
    "_Feature"
   ],
   "window_display": false
  }
 },
 "nbformat": 4,
 "nbformat_minor": 4
}
