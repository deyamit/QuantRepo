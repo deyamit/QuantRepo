{
 "cells": [
  {
   "cell_type": "code",
   "execution_count": 1,
   "metadata": {},
   "outputs": [],
   "source": [
    "import pandas as pd\n",
    "import numpy as np\n",
    "import os as os\n",
    "import yfinance as yf\n",
    "import statsmodels.api as sm\n",
    "import getFamaFrenchFactors as gff\n",
    "\n",
    "# Plot settings\n",
    "import matplotlib\n",
    "import matplotlib.pyplot as plt\n",
    "#Data Import\n",
    "from yahooquery import Ticker"
   ]
  },
  {
   "attachments": {},
   "cell_type": "markdown",
   "metadata": {},
   "source": [
    "<h2> Portfolio Choice and Data</h2>\n",
    "I have chosen to Vanguard Real Estate ETF (Ticker: VNQ) as my portfolio, which tracks MSCI US IMI Real Estate 25/50 Index,a market-cap-weighted index of companies involved in the ownership and operation of real estate in the United States."
   ]
  },
  {
   "attachments": {},
   "cell_type": "markdown",
   "metadata": {},
   "source": [
    "<h3> Backtesting against Factors </h3>\n",
    "\n",
    "Factors considered are the Fama French factors from 3 factor model"
   ]
  },
  {
   "cell_type": "code",
   "execution_count": 2,
   "metadata": {},
   "outputs": [
    {
     "name": "stdout",
     "output_type": "stream",
     "text": [
      "[*********************100%***********************]  1 of 1 completed\n"
     ]
    }
   ],
   "source": [
    "ticker = 'VNQ'\n",
    "start = '2016-8-31'\n",
    "end = '2021-8-31'\n",
    "\n",
    "stock_data = yf.download(ticker, start, end, adjusted=True)\n",
    "\n",
    "ff3_monthly = gff.famaFrench3Factor(frequency='m')\n",
    "ff3_monthly.rename(columns={\"date_ff_factors\": 'Date'}, inplace=True)\n",
    "ff3_monthly.set_index('Date', inplace=True)\n",
    "\n",
    "stock_returns = stock_data['Adj Close'].resample('M').last().pct_change().dropna()\n",
    "stock_returns.name = \"Month_Rtn\"\n",
    "ff_data = ff3_monthly.merge(stock_returns,on='Date')"
   ]
  },
  {
   "cell_type": "code",
   "execution_count": 3,
   "metadata": {},
   "outputs": [
    {
     "data": {
      "text/html": [
       "<div>\n",
       "<style scoped>\n",
       "    .dataframe tbody tr th:only-of-type {\n",
       "        vertical-align: middle;\n",
       "    }\n",
       "\n",
       "    .dataframe tbody tr th {\n",
       "        vertical-align: top;\n",
       "    }\n",
       "\n",
       "    .dataframe thead th {\n",
       "        text-align: right;\n",
       "    }\n",
       "</style>\n",
       "<table border=\"1\" class=\"dataframe\">\n",
       "  <thead>\n",
       "    <tr style=\"text-align: right;\">\n",
       "      <th></th>\n",
       "      <th>Mkt-RF</th>\n",
       "      <th>SMB</th>\n",
       "      <th>HML</th>\n",
       "      <th>RF</th>\n",
       "      <th>Month_Rtn</th>\n",
       "    </tr>\n",
       "    <tr>\n",
       "      <th>Date</th>\n",
       "      <th></th>\n",
       "      <th></th>\n",
       "      <th></th>\n",
       "      <th></th>\n",
       "      <th></th>\n",
       "    </tr>\n",
       "  </thead>\n",
       "  <tbody>\n",
       "    <tr>\n",
       "      <th>2016-09-30</th>\n",
       "      <td>0.0025</td>\n",
       "      <td>0.0213</td>\n",
       "      <td>-0.0123</td>\n",
       "      <td>0.0002</td>\n",
       "      <td>-0.018326</td>\n",
       "    </tr>\n",
       "    <tr>\n",
       "      <th>2016-10-31</th>\n",
       "      <td>-0.0202</td>\n",
       "      <td>-0.0442</td>\n",
       "      <td>0.0412</td>\n",
       "      <td>0.0002</td>\n",
       "      <td>-0.057413</td>\n",
       "    </tr>\n",
       "    <tr>\n",
       "      <th>2016-11-30</th>\n",
       "      <td>0.0486</td>\n",
       "      <td>0.0567</td>\n",
       "      <td>0.0819</td>\n",
       "      <td>0.0001</td>\n",
       "      <td>-0.016757</td>\n",
       "    </tr>\n",
       "    <tr>\n",
       "      <th>2016-12-31</th>\n",
       "      <td>0.0181</td>\n",
       "      <td>0.0008</td>\n",
       "      <td>0.0356</td>\n",
       "      <td>0.0003</td>\n",
       "      <td>0.048172</td>\n",
       "    </tr>\n",
       "    <tr>\n",
       "      <th>2017-01-31</th>\n",
       "      <td>0.0194</td>\n",
       "      <td>-0.0114</td>\n",
       "      <td>-0.0276</td>\n",
       "      <td>0.0004</td>\n",
       "      <td>-0.001939</td>\n",
       "    </tr>\n",
       "  </tbody>\n",
       "</table>\n",
       "</div>"
      ],
      "text/plain": [
       "            Mkt-RF     SMB     HML      RF  Month_Rtn\n",
       "Date                                                 \n",
       "2016-09-30  0.0025  0.0213 -0.0123  0.0002  -0.018326\n",
       "2016-10-31 -0.0202 -0.0442  0.0412  0.0002  -0.057413\n",
       "2016-11-30  0.0486  0.0567  0.0819  0.0001  -0.016757\n",
       "2016-12-31  0.0181  0.0008  0.0356  0.0003   0.048172\n",
       "2017-01-31  0.0194 -0.0114 -0.0276  0.0004  -0.001939"
      ]
     },
     "execution_count": 3,
     "metadata": {},
     "output_type": "execute_result"
    }
   ],
   "source": [
    "ff_data.head()"
   ]
  },
  {
   "cell_type": "code",
   "execution_count": 4,
   "metadata": {},
   "outputs": [],
   "source": [
    "alpha = []\n",
    "beta1 = []\n",
    "beta2 = []\n",
    "beta3 = []\n",
    "timestamp = []\n",
    "\n",
    "dates = ff_data.index\n",
    "window_length = 24\n",
    "index = 0\n",
    "while((index+window_length) < len(ff_data)):\n",
    "    #print(\"Index :{0}\".format(index))\n",
    "    data_win = ff_data.iloc[index : (index+window_length),:]\n",
    "    X = data_win[['Mkt-RF', 'SMB', 'HML']]\n",
    "    y = data_win['Month_Rtn'] - data_win['RF']\n",
    "    X = sm.add_constant(X)\n",
    "    ff_model = sm.OLS(y, X).fit()\n",
    "    intercept, b1, b2, b3 = ff_model.params\n",
    "\n",
    "    timestamp.append(dates[index])\n",
    "    alpha.append(intercept)\n",
    "    beta1.append(b1)\n",
    "    beta2.append(b2)\n",
    "    beta3.append(b3)\n",
    "\n",
    "    index = index +1\n"
   ]
  },
  {
   "cell_type": "code",
   "execution_count": 5,
   "metadata": {},
   "outputs": [
    {
     "data": {
      "text/html": [
       "<div>\n",
       "<style scoped>\n",
       "    .dataframe tbody tr th:only-of-type {\n",
       "        vertical-align: middle;\n",
       "    }\n",
       "\n",
       "    .dataframe tbody tr th {\n",
       "        vertical-align: top;\n",
       "    }\n",
       "\n",
       "    .dataframe thead th {\n",
       "        text-align: right;\n",
       "    }\n",
       "</style>\n",
       "<table border=\"1\" class=\"dataframe\">\n",
       "  <thead>\n",
       "    <tr style=\"text-align: right;\">\n",
       "      <th></th>\n",
       "      <th>alpha</th>\n",
       "      <th>beta1</th>\n",
       "      <th>beta2</th>\n",
       "      <th>beta3</th>\n",
       "    </tr>\n",
       "  </thead>\n",
       "  <tbody>\n",
       "    <tr>\n",
       "      <th>2016-09-30</th>\n",
       "      <td>-0.007244</td>\n",
       "      <td>0.436796</td>\n",
       "      <td>0.421421</td>\n",
       "      <td>-0.257162</td>\n",
       "    </tr>\n",
       "    <tr>\n",
       "      <th>2016-10-31</th>\n",
       "      <td>-0.006860</td>\n",
       "      <td>0.427947</td>\n",
       "      <td>0.476909</td>\n",
       "      <td>-0.269419</td>\n",
       "    </tr>\n",
       "    <tr>\n",
       "      <th>2016-11-30</th>\n",
       "      <td>-0.001894</td>\n",
       "      <td>0.238545</td>\n",
       "      <td>0.340067</td>\n",
       "      <td>-0.131070</td>\n",
       "    </tr>\n",
       "    <tr>\n",
       "      <th>2016-12-31</th>\n",
       "      <td>0.002605</td>\n",
       "      <td>0.415949</td>\n",
       "      <td>0.466595</td>\n",
       "      <td>0.267188</td>\n",
       "    </tr>\n",
       "    <tr>\n",
       "      <th>2017-01-31</th>\n",
       "      <td>-0.000931</td>\n",
       "      <td>0.498671</td>\n",
       "      <td>0.477342</td>\n",
       "      <td>0.185247</td>\n",
       "    </tr>\n",
       "  </tbody>\n",
       "</table>\n",
       "</div>"
      ],
      "text/plain": [
       "               alpha     beta1     beta2     beta3\n",
       "2016-09-30 -0.007244  0.436796  0.421421 -0.257162\n",
       "2016-10-31 -0.006860  0.427947  0.476909 -0.269419\n",
       "2016-11-30 -0.001894  0.238545  0.340067 -0.131070\n",
       "2016-12-31  0.002605  0.415949  0.466595  0.267188\n",
       "2017-01-31 -0.000931  0.498671  0.477342  0.185247"
      ]
     },
     "execution_count": 5,
     "metadata": {},
     "output_type": "execute_result"
    }
   ],
   "source": [
    "df = pd.DataFrame(list(zip(alpha, beta1, beta2, beta3)),\n",
    "               columns =['alpha', 'beta1','beta2','beta3'],index=timestamp)\n",
    "\n",
    "df.head()"
   ]
  },
  {
   "cell_type": "code",
   "execution_count": 6,
   "metadata": {},
   "outputs": [
    {
     "data": {
      "image/png": "[encoded data removed]",
      "text/plain": [
       "<Figure size 1152x576 with 1 Axes>"
      ]
     },
     "metadata": {
      "needs_background": "light"
     },
     "output_type": "display_data"
    }
   ],
   "source": [
    "# Visualize the data\n",
    "fig = plt.figure(figsize=(16,8))\n",
    "ax = plt.axes()\n",
    "\n",
    "ax.set_title('Rolling Beta - Against all factors combined')\n",
    "ax.plot(df)\n",
    "ax.legend(['alpha','Rm-Rf','SMB','HML'], loc='upper left')\n",
    "ax.grid(True)\n"
   ]
  },
  {
   "attachments": {},
   "cell_type": "markdown",
   "metadata": {},
   "source": [
    "<h2> Black-Litterman Model </h2>\n"
   ]
  },
  {
   "cell_type": "code",
   "execution_count": 7,
   "metadata": {},
   "outputs": [],
   "source": [
    "from numpy.linalg import inv\n",
    "\n",
    "def as_colvec(x):\n",
    "    if (x.ndim == 2):\n",
    "        return x\n",
    "    else:\n",
    "        return np.expand_dims(x, axis=1)\n",
    "\n",
    "def implied_returns(delta, sigma, w):\n",
    "    \"\"\"\n",
    "Obtain the implied expected returns by reverse engineering the weights\n",
    "Inputs:\n",
    "delta: Risk Aversion Coefficient (scalar)\n",
    "sigma: Variance-Covariance Matrix (N x N) as DataFrame\n",
    "    w: Portfolio weights (N x 1) as Series\n",
    "Returns an N x 1 vector of Returns as Series\n",
    "    \"\"\"\n",
    "    ir = delta * sigma.dot(w).squeeze() # to get a series from a 1-column dataframe\n",
    "    ir.name = 'Implied Returns'\n",
    "    return ir\n",
    "# for convenience and readability, define the inverse of a dataframe\n",
    "def inverse(d):\n",
    "    \"\"\"\n",
    "    Invert the dataframe by inverting the underlying matrix\n",
    "    \"\"\"\n",
    "    return pd.DataFrame(inv(d.values), index=d.columns, columns=d.index)\n",
    "\n",
    "def w_msr(sigma, mu, scale=True):\n",
    "    \"\"\"\n",
    "    Optimal (Tangent/Max Sharpe Ratio) Portfolio weights\n",
    "    by using the Markowitz Optimization Procedure\n",
    "    Mu is the vector of Excess expected Returns\n",
    "    Sigma must be an N x N matrix as a DataFrame and Mu a column vector as a Series\n",
    "    This implements page 188 Equation 5.2.28 of\n",
    "    \"The econometrics of financial markets\" Campbell, Lo and Mackinlay.\n",
    "    \"\"\"\n",
    "    w = inverse(sigma).dot(mu).values\n",
    "    if scale:\n",
    "        w = w/sum(w) # fix: this assumes all w is +ve\n",
    "    return w\n",
    "\n",
    "def w_mv(sigma,scale= True):\n",
    "    \"\"\"\n",
    "    Optimal Portoflio weights for minimum vairance\n",
    "\n",
    "    \"\"\"\n",
    "    i = np.ones(len(sigma))\n",
    "    w = inverse(sigma).dot(i).values\n",
    "    if scale:\n",
    "        w = w/sum(w) # fix: this assumes all w is +ve\n",
    "        \n",
    "    return w\n",
    "\n",
    "\n",
    "def getdata(tickers,start_date,end_date):\n",
    "    \"\"\"\n",
    "    Fetches Time Series data from Yahoo Finance for a list of tickers \n",
    "    \"\"\"\n",
    "    data = yf.download(list(tickers),start_date,end_date,adjusted= True)['Adj Close']\n",
    "    return data\n",
    "\n",
    "\n",
    "def get_covMatrix(rets):\n",
    "    cov_Matrix = rets.cov() * 252   #Calculates annualized covariance matrix\n",
    "    return cov_Matrix\n",
    "\n",
    "#Assummes that Omega is proportional to the variance of the prior\n",
    "def proportional_prior(sigma,tau,p):\n",
    "    \"\"\"\n",
    "Returns the He Litterman simplified Omega\n",
    "Inputs:\n",
    "sigma: Variance-Covariance Matrix (N x N) as DataFrame\n",
    "tau: a scalar\n",
    "p: a K by K DataFrame linking Q and assets\n",
    "returns a P by P DataFrame, a matrix representing prior uncertainties\n",
    "\n",
    "    \"\"\"\n",
    "    heli_omega=p.dot(tau*sigma).dot(p.T)\n",
    "    #Make a diag matrix from the diag elements of Omega\n",
    "    return pd.DataFrame(np.diag(np.diag(heli_omega.values)),index=p.index,columns=p.index)\n",
    "\n",
    "def get_BL(omega_matrix, p_matrix, q_vector, tau,cov_mat,pi_vec): \n",
    "    \"\"\"Implemented the exact version of the Black Littermnan Expected Return Formula\"\"\"   \n",
    "    first_part =  inv(inv(tau*(cov_mat))+np.dot(np.dot(p_matrix.T, inv(omega_matrix)), p_matrix))\n",
    "    second_part = np.dot(inv(tau*cov_mat), as_colvec(pi_vec)) + np.dot(np.dot(p_matrix.T, inv(omega_matrix)), q_vector)\n",
    "\n",
    "    BLReturn = np.dot(first_part, second_part)\n",
    "    BLReturn_df = pd.DataFrame(BLReturn,index=pi_vec.index,columns=['Return'])\n",
    "    \n",
    "    var_BL =  inv(inv(tau*(cov_mat))+np.dot(np.dot(p_matrix.T, inv(omega_matrix)), p_matrix))\n",
    "    var_BL_df = pd.DataFrame(var_BL,index=pi_vec.index,columns=[pi_vec.index])\n",
    "    return BLReturn_df,var_BL_df\n"
   ]
  },
  {
   "attachments": {},
   "cell_type": "markdown",
   "metadata": {},
   "source": [
    "Step1 : Getting the prior\n",
    "\n",
    "We start by taking the current holdings as equilibrium weights for our analysis.\n",
    "\n",
    "The equilibrium excess returns\n",
    "$\\pi = \\lambda \\Sigma w_{mkt} $"
   ]
  },
  {
   "cell_type": "code",
   "execution_count": 8,
   "metadata": {},
   "outputs": [],
   "source": [
    "from yahooquery import Ticker\n",
    "t = Ticker('VNQ')\n",
    "\n",
    "# sector weightings, returns pandas DataFrame\n",
    "t._fund_holdings\n",
    "holdings = t.fund_holding_info['VNQ']['holdings']\n",
    "symbols = []\n",
    "weights =[]\n",
    "for holding in holdings:\n",
    "    symbols.append(holding['symbol'])\n",
    "    weights.append(holding['holdingPercent'])"
   ]
  },
  {
   "cell_type": "code",
   "execution_count": 9,
   "metadata": {},
   "outputs": [
    {
     "name": "stdout",
     "output_type": "stream",
     "text": [
      "[*********************100%***********************]  10 of 10 completed\n"
     ]
    }
   ],
   "source": [
    "start_date = '2016-12-31'\n",
    "end_date = '2022-12-31'\n",
    "ts_data = getdata(symbols,start_date,end_date)\n",
    "\n",
    "##Calculate returns##\n",
    "returns = ts_data.pct_change().fillna(0)\n",
    "\n",
    "##Calculate Covariance Matrix ##\n",
    "sigma = get_covMatrix(returns)\n",
    "\n",
    "## Calculate Equilibrium Returns ##\n",
    "eql_returns = implied_returns(2.5,sigma,weights)"
   ]
  },
  {
   "cell_type": "code",
   "execution_count": 10,
   "metadata": {},
   "outputs": [
    {
     "data": {
      "text/plain": [
       "AMT      0.064978\n",
       "CCI      0.061646\n",
       "DLR      0.061198\n",
       "EQIX     0.060322\n",
       "PLD      0.062080\n",
       "PSA      0.045022\n",
       "SBAC     0.060381\n",
       "SPG      0.055745\n",
       "VRTPX    0.053909\n",
       "WELL     0.059006\n",
       "Name: Implied Returns, dtype: float64"
      ]
     },
     "execution_count": 10,
     "metadata": {},
     "output_type": "execute_result"
    }
   ],
   "source": [
    "eql_returns"
   ]
  },
  {
   "cell_type": "code",
   "execution_count": 11,
   "metadata": {},
   "outputs": [
    {
     "data": {
      "text/plain": [
       "{'VRTPX': 0.2524080565945886,\n",
       " 'AMT': 0.16396672540272927,\n",
       " 'PLD': 0.12302976822029285,\n",
       " 'CCI': 0.10267075328955945,\n",
       " 'EQIX': 0.09260070072811012,\n",
       " 'PSA': 0.06282837141599906,\n",
       " 'DLR': 0.055823117460208224,\n",
       " 'SPG': 0.053196151605070394,\n",
       " 'SBAC': 0.04838003513218047,\n",
       " 'WELL': 0.04509632015126165}"
      ]
     },
     "execution_count": 11,
     "metadata": {},
     "output_type": "execute_result"
    }
   ],
   "source": [
    "weights = np.array(weights)/sum(np.array(weights))\n",
    "wt_dict = dict(zip(symbols, weights))\n",
    "wt_dict"
   ]
  },
  {
   "cell_type": "code",
   "execution_count": 12,
   "metadata": {},
   "outputs": [
    {
     "data": {
      "image/png": "[encoded data removed]",
      "text/plain": [
       "<Figure size 720x360 with 1 Axes>"
      ]
     },
     "metadata": {
      "needs_background": "light"
     },
     "output_type": "display_data"
    }
   ],
   "source": [
    "\n",
    "pd.Series(wt_dict).plot.barh(figsize=(10,5),);"
   ]
  },
  {
   "attachments": {},
   "cell_type": "markdown",
   "metadata": {},
   "source": [
    "Step 2: Inputing the Views \n",
    "\n",
    "Assuming some hypothetical Absolute views on AMT and EQIX, lets say we think AMT and EQIX will return 4% and 6% respectively \n"
   ]
  },
  {
   "cell_type": "code",
   "execution_count": 13,
   "metadata": {},
   "outputs": [
    {
     "data": {
      "text/html": [
       "<div>\n",
       "<style scoped>\n",
       "    .dataframe tbody tr th:only-of-type {\n",
       "        vertical-align: middle;\n",
       "    }\n",
       "\n",
       "    .dataframe tbody tr th {\n",
       "        vertical-align: top;\n",
       "    }\n",
       "\n",
       "    .dataframe thead th {\n",
       "        text-align: right;\n",
       "    }\n",
       "</style>\n",
       "<table border=\"1\" class=\"dataframe\">\n",
       "  <thead>\n",
       "    <tr style=\"text-align: right;\">\n",
       "      <th></th>\n",
       "      <th>VRTPX</th>\n",
       "      <th>AMT</th>\n",
       "      <th>PLD</th>\n",
       "      <th>CCI</th>\n",
       "      <th>EQIX</th>\n",
       "      <th>PSA</th>\n",
       "      <th>DLR</th>\n",
       "      <th>SPG</th>\n",
       "      <th>SBAC</th>\n",
       "      <th>WELL</th>\n",
       "    </tr>\n",
       "  </thead>\n",
       "  <tbody>\n",
       "    <tr>\n",
       "      <th>0</th>\n",
       "      <td>0.0</td>\n",
       "      <td>1.0</td>\n",
       "      <td>0.0</td>\n",
       "      <td>0.0</td>\n",
       "      <td>0.0</td>\n",
       "      <td>0.0</td>\n",
       "      <td>0.0</td>\n",
       "      <td>0.0</td>\n",
       "      <td>0.0</td>\n",
       "      <td>0.0</td>\n",
       "    </tr>\n",
       "    <tr>\n",
       "      <th>1</th>\n",
       "      <td>0.0</td>\n",
       "      <td>0.0</td>\n",
       "      <td>0.0</td>\n",
       "      <td>0.0</td>\n",
       "      <td>1.0</td>\n",
       "      <td>0.0</td>\n",
       "      <td>0.0</td>\n",
       "      <td>0.0</td>\n",
       "      <td>0.0</td>\n",
       "      <td>0.0</td>\n",
       "    </tr>\n",
       "  </tbody>\n",
       "</table>\n",
       "</div>"
      ],
      "text/plain": [
       "   VRTPX  AMT  PLD  CCI  EQIX  PSA  DLR  SPG  SBAC  WELL\n",
       "0    0.0  1.0  0.0  0.0   0.0  0.0  0.0  0.0   0.0   0.0\n",
       "1    0.0  0.0  0.0  0.0   1.0  0.0  0.0  0.0   0.0   0.0"
      ]
     },
     "execution_count": 13,
     "metadata": {},
     "output_type": "execute_result"
    }
   ],
   "source": [
    "view_count = 2\n",
    "p = pd.DataFrame(dict(zip(symbols,np.zeros(10))),index=range(0,view_count,1))\n",
    "p.loc[0,'AMT'] = 1\n",
    "p.loc[1,'EQIX'] = 1\n",
    "p"
   ]
  },
  {
   "cell_type": "code",
   "execution_count": 14,
   "metadata": {},
   "outputs": [
    {
     "data": {
      "text/html": [
       "<div>\n",
       "<style scoped>\n",
       "    .dataframe tbody tr th:only-of-type {\n",
       "        vertical-align: middle;\n",
       "    }\n",
       "\n",
       "    .dataframe tbody tr th {\n",
       "        vertical-align: top;\n",
       "    }\n",
       "\n",
       "    .dataframe thead th {\n",
       "        text-align: right;\n",
       "    }\n",
       "</style>\n",
       "<table border=\"1\" class=\"dataframe\">\n",
       "  <thead>\n",
       "    <tr style=\"text-align: right;\">\n",
       "      <th></th>\n",
       "      <th>0</th>\n",
       "    </tr>\n",
       "  </thead>\n",
       "  <tbody>\n",
       "    <tr>\n",
       "      <th>AMT</th>\n",
       "      <td>0.04</td>\n",
       "    </tr>\n",
       "    <tr>\n",
       "      <th>EQIX</th>\n",
       "      <td>0.06</td>\n",
       "    </tr>\n",
       "  </tbody>\n",
       "</table>\n",
       "</div>"
      ],
      "text/plain": [
       "         0\n",
       "AMT   0.04\n",
       "EQIX  0.06"
      ]
     },
     "execution_count": 14,
     "metadata": {},
     "output_type": "execute_result"
    }
   ],
   "source": [
    "q = pd.DataFrame({'AMT': 0.04 ,'EQIX':0.06},index=range(0,1,1))\n",
    "q = q.T    # K- Element column vector\n",
    "q"
   ]
  },
  {
   "attachments": {},
   "cell_type": "markdown",
   "metadata": {},
   "source": [
    "Step 3: Calculating posteriror returns\n",
    "\n",
    "$$\\Omega = diag(P (\\tau \\Sigma) P^T) $$\n",
    "$$E(R) = = [(\\tau \\Sigma)^{-1} + P^{T}\\Omega^{-1}P]^{-1} [(\\tau \\Sigma)^{-1}\\Pi + P^{T}\\Omega^{-1}Q]   $$"
   ]
  },
  {
   "cell_type": "code",
   "execution_count": 15,
   "metadata": {},
   "outputs": [],
   "source": [
    "omega_matrix = proportional_prior(sigma,0.02,p)\n",
    "p_matrix = p\n",
    "q_vector= q\n",
    "tau = 0.02\n",
    "cov_mat = sigma\n",
    "\n",
    "pi_vec = eql_returns\n"
   ]
  },
  {
   "cell_type": "code",
   "execution_count": 16,
   "metadata": {},
   "outputs": [
    {
     "data": {
      "text/html": [
       "<div>\n",
       "<style scoped>\n",
       "    .dataframe tbody tr th:only-of-type {\n",
       "        vertical-align: middle;\n",
       "    }\n",
       "\n",
       "    .dataframe tbody tr th {\n",
       "        vertical-align: top;\n",
       "    }\n",
       "\n",
       "    .dataframe thead th {\n",
       "        text-align: right;\n",
       "    }\n",
       "</style>\n",
       "<table border=\"1\" class=\"dataframe\">\n",
       "  <thead>\n",
       "    <tr style=\"text-align: right;\">\n",
       "      <th></th>\n",
       "      <th>Return</th>\n",
       "    </tr>\n",
       "  </thead>\n",
       "  <tbody>\n",
       "    <tr>\n",
       "      <th>AMT</th>\n",
       "      <td>0.057124</td>\n",
       "    </tr>\n",
       "    <tr>\n",
       "      <th>CCI</th>\n",
       "      <td>0.052086</td>\n",
       "    </tr>\n",
       "    <tr>\n",
       "      <th>DLR</th>\n",
       "      <td>0.054616</td>\n",
       "    </tr>\n",
       "    <tr>\n",
       "      <th>EQIX</th>\n",
       "      <td>0.054021</td>\n",
       "    </tr>\n",
       "    <tr>\n",
       "      <th>PLD</th>\n",
       "      <td>0.056830</td>\n",
       "    </tr>\n",
       "    <tr>\n",
       "      <th>PSA</th>\n",
       "      <td>0.040540</td>\n",
       "    </tr>\n",
       "    <tr>\n",
       "      <th>SBAC</th>\n",
       "      <td>0.052392</td>\n",
       "    </tr>\n",
       "    <tr>\n",
       "      <th>SPG</th>\n",
       "      <td>0.052210</td>\n",
       "    </tr>\n",
       "    <tr>\n",
       "      <th>VRTPX</th>\n",
       "      <td>0.048670</td>\n",
       "    </tr>\n",
       "    <tr>\n",
       "      <th>WELL</th>\n",
       "      <td>0.054269</td>\n",
       "    </tr>\n",
       "  </tbody>\n",
       "</table>\n",
       "</div>"
      ],
      "text/plain": [
       "         Return\n",
       "AMT    0.057124\n",
       "CCI    0.052086\n",
       "DLR    0.054616\n",
       "EQIX   0.054021\n",
       "PLD    0.056830\n",
       "PSA    0.040540\n",
       "SBAC   0.052392\n",
       "SPG    0.052210\n",
       "VRTPX  0.048670\n",
       "WELL   0.054269"
      ]
     },
     "execution_count": 16,
     "metadata": {},
     "output_type": "execute_result"
    }
   ],
   "source": [
    "mu_BL,var_BL = get_BL(omega_matrix, p_matrix, q_vector, tau,cov_mat,pi_vec)     #Posterior Returns\n",
    "mu_BL"
   ]
  },
  {
   "cell_type": "code",
   "execution_count": 17,
   "metadata": {},
   "outputs": [
    {
     "data": {
      "image/png": "[encoded data removed]",
      "text/plain": [
       "<Figure size 864x576 with 1 Axes>"
      ]
     },
     "metadata": {
      "needs_background": "light"
     },
     "output_type": "display_data"
    }
   ],
   "source": [
    "rets_df = mu_BL\n",
    "rets_df['Prior'] = eql_returns\n",
    "rets_df = rets_df.rename(columns={'Return':'Posterior'})\n",
    "\n",
    "\n",
    "rets_df.plot.bar(figsize=(12,8));"
   ]
  },
  {
   "cell_type": "code",
   "execution_count": 18,
   "metadata": {},
   "outputs": [
    {
     "data": {
      "text/html": [
       "<div>\n",
       "<style scoped>\n",
       "    .dataframe tbody tr th:only-of-type {\n",
       "        vertical-align: middle;\n",
       "    }\n",
       "\n",
       "    .dataframe tbody tr th {\n",
       "        vertical-align: top;\n",
       "    }\n",
       "\n",
       "    .dataframe thead tr th {\n",
       "        text-align: left;\n",
       "    }\n",
       "</style>\n",
       "<table border=\"1\" class=\"dataframe\">\n",
       "  <thead>\n",
       "    <tr>\n",
       "      <th></th>\n",
       "      <th>AMT</th>\n",
       "      <th>CCI</th>\n",
       "      <th>DLR</th>\n",
       "      <th>EQIX</th>\n",
       "      <th>PLD</th>\n",
       "      <th>PSA</th>\n",
       "      <th>SBAC</th>\n",
       "      <th>SPG</th>\n",
       "      <th>VRTPX</th>\n",
       "      <th>WELL</th>\n",
       "    </tr>\n",
       "  </thead>\n",
       "  <tbody>\n",
       "    <tr>\n",
       "      <th>AMT</th>\n",
       "      <td>0.000809</td>\n",
       "      <td>0.000495</td>\n",
       "      <td>0.000445</td>\n",
       "      <td>0.000478</td>\n",
       "      <td>0.000362</td>\n",
       "      <td>0.000324</td>\n",
       "      <td>0.000583</td>\n",
       "      <td>0.000281</td>\n",
       "      <td>0.000392</td>\n",
       "      <td>0.000389</td>\n",
       "    </tr>\n",
       "    <tr>\n",
       "      <th>CCI</th>\n",
       "      <td>0.000495</td>\n",
       "      <td>0.000616</td>\n",
       "      <td>0.000407</td>\n",
       "      <td>0.000387</td>\n",
       "      <td>0.000292</td>\n",
       "      <td>0.000271</td>\n",
       "      <td>0.000507</td>\n",
       "      <td>0.000197</td>\n",
       "      <td>0.000315</td>\n",
       "      <td>0.000276</td>\n",
       "    </tr>\n",
       "    <tr>\n",
       "      <th>DLR</th>\n",
       "      <td>0.000445</td>\n",
       "      <td>0.000407</td>\n",
       "      <td>0.001079</td>\n",
       "      <td>0.000699</td>\n",
       "      <td>0.000398</td>\n",
       "      <td>0.000352</td>\n",
       "      <td>0.000438</td>\n",
       "      <td>0.000162</td>\n",
       "      <td>0.000366</td>\n",
       "      <td>0.000205</td>\n",
       "    </tr>\n",
       "    <tr>\n",
       "      <th>EQIX</th>\n",
       "      <td>0.000478</td>\n",
       "      <td>0.000387</td>\n",
       "      <td>0.000699</td>\n",
       "      <td>0.001087</td>\n",
       "      <td>0.000410</td>\n",
       "      <td>0.000278</td>\n",
       "      <td>0.000503</td>\n",
       "      <td>0.000102</td>\n",
       "      <td>0.000357</td>\n",
       "      <td>0.000145</td>\n",
       "    </tr>\n",
       "    <tr>\n",
       "      <th>PLD</th>\n",
       "      <td>0.000362</td>\n",
       "      <td>0.000292</td>\n",
       "      <td>0.000398</td>\n",
       "      <td>0.000410</td>\n",
       "      <td>0.000700</td>\n",
       "      <td>0.000348</td>\n",
       "      <td>0.000326</td>\n",
       "      <td>0.000464</td>\n",
       "      <td>0.000427</td>\n",
       "      <td>0.000485</td>\n",
       "    </tr>\n",
       "    <tr>\n",
       "      <th>PSA</th>\n",
       "      <td>0.000324</td>\n",
       "      <td>0.000271</td>\n",
       "      <td>0.000352</td>\n",
       "      <td>0.000278</td>\n",
       "      <td>0.000348</td>\n",
       "      <td>0.000817</td>\n",
       "      <td>0.000256</td>\n",
       "      <td>0.000392</td>\n",
       "      <td>0.000375</td>\n",
       "      <td>0.000437</td>\n",
       "    </tr>\n",
       "    <tr>\n",
       "      <th>SBAC</th>\n",
       "      <td>0.000583</td>\n",
       "      <td>0.000507</td>\n",
       "      <td>0.000438</td>\n",
       "      <td>0.000503</td>\n",
       "      <td>0.000326</td>\n",
       "      <td>0.000256</td>\n",
       "      <td>0.000909</td>\n",
       "      <td>0.000081</td>\n",
       "      <td>0.000319</td>\n",
       "      <td>0.000202</td>\n",
       "    </tr>\n",
       "    <tr>\n",
       "      <th>SPG</th>\n",
       "      <td>0.000281</td>\n",
       "      <td>0.000197</td>\n",
       "      <td>0.000162</td>\n",
       "      <td>0.000102</td>\n",
       "      <td>0.000464</td>\n",
       "      <td>0.000392</td>\n",
       "      <td>0.000081</td>\n",
       "      <td>0.003485</td>\n",
       "      <td>0.000936</td>\n",
       "      <td>0.001841</td>\n",
       "    </tr>\n",
       "    <tr>\n",
       "      <th>VRTPX</th>\n",
       "      <td>0.000392</td>\n",
       "      <td>0.000315</td>\n",
       "      <td>0.000366</td>\n",
       "      <td>0.000357</td>\n",
       "      <td>0.000427</td>\n",
       "      <td>0.000375</td>\n",
       "      <td>0.000319</td>\n",
       "      <td>0.000936</td>\n",
       "      <td>0.000559</td>\n",
       "      <td>0.000779</td>\n",
       "    </tr>\n",
       "    <tr>\n",
       "      <th>WELL</th>\n",
       "      <td>0.000389</td>\n",
       "      <td>0.000276</td>\n",
       "      <td>0.000205</td>\n",
       "      <td>0.000145</td>\n",
       "      <td>0.000485</td>\n",
       "      <td>0.000437</td>\n",
       "      <td>0.000202</td>\n",
       "      <td>0.001841</td>\n",
       "      <td>0.000779</td>\n",
       "      <td>0.002248</td>\n",
       "    </tr>\n",
       "  </tbody>\n",
       "</table>\n",
       "</div>"
      ],
      "text/plain": [
       "            AMT       CCI       DLR      EQIX       PLD       PSA      SBAC  \\\n",
       "AMT    0.000809  0.000495  0.000445  0.000478  0.000362  0.000324  0.000583   \n",
       "CCI    0.000495  0.000616  0.000407  0.000387  0.000292  0.000271  0.000507   \n",
       "DLR    0.000445  0.000407  0.001079  0.000699  0.000398  0.000352  0.000438   \n",
       "EQIX   0.000478  0.000387  0.000699  0.001087  0.000410  0.000278  0.000503   \n",
       "PLD    0.000362  0.000292  0.000398  0.000410  0.000700  0.000348  0.000326   \n",
       "PSA    0.000324  0.000271  0.000352  0.000278  0.000348  0.000817  0.000256   \n",
       "SBAC   0.000583  0.000507  0.000438  0.000503  0.000326  0.000256  0.000909   \n",
       "SPG    0.000281  0.000197  0.000162  0.000102  0.000464  0.000392  0.000081   \n",
       "VRTPX  0.000392  0.000315  0.000366  0.000357  0.000427  0.000375  0.000319   \n",
       "WELL   0.000389  0.000276  0.000205  0.000145  0.000485  0.000437  0.000202   \n",
       "\n",
       "            SPG     VRTPX      WELL  \n",
       "AMT    0.000281  0.000392  0.000389  \n",
       "CCI    0.000197  0.000315  0.000276  \n",
       "DLR    0.000162  0.000366  0.000205  \n",
       "EQIX   0.000102  0.000357  0.000145  \n",
       "PLD    0.000464  0.000427  0.000485  \n",
       "PSA    0.000392  0.000375  0.000437  \n",
       "SBAC   0.000081  0.000319  0.000202  \n",
       "SPG    0.003485  0.000936  0.001841  \n",
       "VRTPX  0.000936  0.000559  0.000779  \n",
       "WELL   0.001841  0.000779  0.002248  "
      ]
     },
     "execution_count": 18,
     "metadata": {},
     "output_type": "execute_result"
    }
   ],
   "source": [
    "var_BL"
   ]
  },
  {
   "attachments": {},
   "cell_type": "markdown",
   "metadata": {},
   "source": [
    "Step 4: Updating the Asset Allocation"
   ]
  },
  {
   "cell_type": "code",
   "execution_count": 19,
   "metadata": {},
   "outputs": [],
   "source": [
    "#Optimisation 1\n",
    "#Get corresponding Max Sharp Ratio portfolio \n",
    "wt_msr_BL = w_msr(var_BL,mu_BL)\n",
    "\n",
    "#Optimisation 2 \n",
    "# Get the minimum variance portfolio\n",
    "\n",
    "wt_mv_BL =  w_mv(var_BL)"
   ]
  },
  {
   "cell_type": "code",
   "execution_count": 20,
   "metadata": {},
   "outputs": [
    {
     "data": {
      "text/html": [
       "<div>\n",
       "<style scoped>\n",
       "    .dataframe tbody tr th:only-of-type {\n",
       "        vertical-align: middle;\n",
       "    }\n",
       "\n",
       "    .dataframe tbody tr th {\n",
       "        vertical-align: top;\n",
       "    }\n",
       "\n",
       "    .dataframe thead th {\n",
       "        text-align: right;\n",
       "    }\n",
       "</style>\n",
       "<table border=\"1\" class=\"dataframe\">\n",
       "  <thead>\n",
       "    <tr style=\"text-align: right;\">\n",
       "      <th></th>\n",
       "      <th>Max Sharpe Weights</th>\n",
       "      <th>Minimum Variance Wights</th>\n",
       "    </tr>\n",
       "  </thead>\n",
       "  <tbody>\n",
       "    <tr>\n",
       "      <th>AMT</th>\n",
       "      <td>0.118561</td>\n",
       "      <td>-0.048256</td>\n",
       "    </tr>\n",
       "    <tr>\n",
       "      <th>CCI</th>\n",
       "      <td>0.303835</td>\n",
       "      <td>0.301104</td>\n",
       "    </tr>\n",
       "    <tr>\n",
       "      <th>DLR</th>\n",
       "      <td>0.057790</td>\n",
       "      <td>-0.001767</td>\n",
       "    </tr>\n",
       "    <tr>\n",
       "      <th>EQIX</th>\n",
       "      <td>0.048227</td>\n",
       "      <td>0.036844</td>\n",
       "    </tr>\n",
       "    <tr>\n",
       "      <th>PLD</th>\n",
       "      <td>0.346959</td>\n",
       "      <td>0.138543</td>\n",
       "    </tr>\n",
       "    <tr>\n",
       "      <th>PSA</th>\n",
       "      <td>0.029512</td>\n",
       "      <td>0.169536</td>\n",
       "    </tr>\n",
       "    <tr>\n",
       "      <th>SBAC</th>\n",
       "      <td>0.026221</td>\n",
       "      <td>0.056143</td>\n",
       "    </tr>\n",
       "    <tr>\n",
       "      <th>SPG</th>\n",
       "      <td>0.024987</td>\n",
       "      <td>-0.027242</td>\n",
       "    </tr>\n",
       "    <tr>\n",
       "      <th>VRTPX</th>\n",
       "      <td>0.022725</td>\n",
       "      <td>0.415885</td>\n",
       "    </tr>\n",
       "    <tr>\n",
       "      <th>WELL</th>\n",
       "      <td>0.021183</td>\n",
       "      <td>-0.040790</td>\n",
       "    </tr>\n",
       "  </tbody>\n",
       "</table>\n",
       "</div>"
      ],
      "text/plain": [
       "       Max Sharpe Weights  Minimum Variance Wights\n",
       "AMT              0.118561                -0.048256\n",
       "CCI              0.303835                 0.301104\n",
       "DLR              0.057790                -0.001767\n",
       "EQIX             0.048227                 0.036844\n",
       "PLD              0.346959                 0.138543\n",
       "PSA              0.029512                 0.169536\n",
       "SBAC             0.026221                 0.056143\n",
       "SPG              0.024987                -0.027242\n",
       "VRTPX            0.022725                 0.415885\n",
       "WELL             0.021183                -0.040790"
      ]
     },
     "execution_count": 20,
     "metadata": {},
     "output_type": "execute_result"
    }
   ],
   "source": [
    "weight_df = pd.DataFrame.from_dict(dict(zip(var_BL.index,wt_msr_BL.T[0])),orient='index',columns=['Max Sharpe Weights'])\n",
    "weight_df['Minimum Variance Wights'] = pd.Series(dict(zip(var_BL.index,wt_mv_BL)))\n",
    "weight_df"
   ]
  },
  {
   "attachments": {},
   "cell_type": "markdown",
   "metadata": {},
   "source": [
    "<h2> Conclusion </h2>\n",
    "\n",
    "1. Posterior Returns are observed to lie between prior and the view estimate.\n",
    "2. We also observe that comapred to tradional optimisation methods Black Litterman based weights tend to be less noisy as the weights tend not to deviate much from the equilibrium weights.\n"
   ]
  },
  {
   "attachments": {},
   "cell_type": "markdown",
   "metadata": {},
   "source": [
    "<h3> Further Analysis </h2>\n",
    "\n",
    " Barring time limitations, one could have explored Machine Learning techniques for injecting more realistic views on the portfolio."
   ]
  }
 ],
 "metadata": {
  "kernelspec": {
   "display_name": "base",
   "language": "python",
   "name": "python3"
  },
  "language_info": {
   "codemirror_mode": {
    "name": "ipython",
    "version": 3
   },
   "file_extension": ".py",
   "mimetype": "text/x-python",
   "name": "python",
   "nbconvert_exporter": "python",
   "pygments_lexer": "ipython3",
   "version": "3.8.3"
  },
  "orig_nbformat": 4,
  "vscode": {
   "interpreter": {
    "hash": "bc30f45a0ee3bb283605bb62d26dc81a10ff7c6c6d220b9edda588a614f8ccf9"
   }
  }
 },
 "nbformat": 4,
 "nbformat_minor": 2
}
